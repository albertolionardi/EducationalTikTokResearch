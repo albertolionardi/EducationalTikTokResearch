{
 "cells": [
  {
   "cell_type": "code",
   "execution_count": null,
   "metadata": {},
   "outputs": [],
   "source": [
    "web_video_url = [{ 'url to tiktok videos'\n",
    "}]\n",
    "\n",
    "web_video_urls = [item['webVideoUrl'] for item in your_list]"
   ]
  },
  {
   "cell_type": "code",
   "execution_count": null,
   "metadata": {},
   "outputs": [],
   "source": [
    "from selenium import webdriver\n",
    "from selenium.webdriver.chrome.service import Service\n",
    "from selenium.webdriver.common.by import By\n",
    "from selenium.webdriver.common.keys import Keys\n",
    "from selenium.webdriver.chrome.options import Options\n",
    "import time\n",
    "from bs4 import BeautifulSoup\n",
    "\n",
    "# Path to your WebDriver\n",
    "DRIVER_PATH = 'D:/chromedriver-win64/chromedriver.exe'\n",
    "\n",
    "# Set up Chrome options\n",
    "chrome_options = Options()\n",
    "chrome_options.add_argument(\"--disable-gpu\")\n",
    "chrome_options.add_argument(\"--no-sandbox\")\n",
    "chrome_options.add_argument(\"enable-automation\")\n",
    "chrome_options.add_argument(\"--disable-infobars\")\n",
    "chrome_options.add_argument(\"--disable-dev-shm-usage\")\n",
    "# Set up Chrome service\n",
    "service = Service(DRIVER_PATH)\n",
    "\n",
    "# Initialize WebDriver\n",
    "driver = webdriver.Chrome(service=service, options=chrome_options)\n",
    "positive_count = 0\n",
    "negative_count = 0\n",
    "keywords = [\"keywords to validate comments on tiktok page\"]\n",
    "for l in web_video_urls:\n",
    "    driver.get(l)\n",
    "    time.sleep(5)  # Wait for the page to load\n",
    "\n",
    "    pageSource = driver.page_source\n",
    "    soup = BeautifulSoup(pageSource, 'html.parser')\n",
    "    comments = soup.select(\"div[data-e2e='search-comment-container'] > div[class*='DivCommentListContainer'] > div[class*='DivCommentItemContainer']\")\n",
    "    \n",
    "    # Flag to indicate if any positive comment is found\n",
    "    positive_found = False\n",
    "\n",
    "    # Print comments\n",
    "    for comment in comments:\n",
    "        comment_text = comment.select_one(\"p.css-xm2h10-PCommentText\").get_text(strip=True)\n",
    "        for key in keywords:\n",
    "            if comment_text.lower().find(key.lower()) != -1:\n",
    "                positive_count += 1\n",
    "                positive_found = True\n",
    "                break  \n",
    "        if positive_found:\n",
    "            break  \n",
    "\n",
    "\n",
    "    if not positive_found:\n",
    "        negative_count += 1\n",
    "# Close the driver\n",
    "driver.quit()\n"
   ]
  },
  {
   "cell_type": "code",
   "execution_count": null,
   "metadata": {},
   "outputs": [],
   "source": [
    "language_learning_hashtag_rate = positive_count/200\n",
    "language_learning_hashtag_rate"
   ]
  },
  {
   "cell_type": "code",
   "execution_count": null,
   "metadata": {},
   "outputs": [],
   "source": [
    "## Resulting data from my research\n",
    "data = {\n",
    "    'Hashtag': [\n",
    "        '#education hashtaag general', \n",
    "        '#language learning', \n",
    "        '#math', \n",
    "        '#draw', \n",
    "        '#guitar', \n",
    "        '#belajaronline', \n",
    "        '#caracepat'\n",
    "    ],\n",
    "    'Positive_Percentage': [\n",
    "        89, \n",
    "        79, \n",
    "        74.5, \n",
    "        76, \n",
    "        58, \n",
    "        88, \n",
    "        70\n",
    "    ],\n",
    "    'Number of Videos': [\n",
    "        300, \n",
    "        100, \n",
    "        150, \n",
    "        150, \n",
    "        150, \n",
    "        100, \n",
    "        200\n",
    "    ]\n",
    "}\n",
    "\n",
    "# Create the DataFrame\n",
    "df = pd.DataFrame(data)\n",
    "\n",
    "# Display the DataFrame\n",
    "print(df)"
   ]
  },
  {
   "cell_type": "code",
   "execution_count": null,
   "metadata": {},
   "outputs": [],
   "source": []
  }
 ],
 "metadata": {
  "kernelspec": {
   "display_name": "Python 3",
   "language": "python",
   "name": "python3"
  },
  "language_info": {
   "codemirror_mode": {
    "name": "ipython",
    "version": 3
   },
   "file_extension": ".py",
   "mimetype": "text/x-python",
   "name": "python",
   "nbconvert_exporter": "python",
   "pygments_lexer": "ipython3",
   "version": "3.12.4"
  }
 },
 "nbformat": 4,
 "nbformat_minor": 2
}
